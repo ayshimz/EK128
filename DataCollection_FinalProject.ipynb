{
 "cells": [
  {
   "cell_type": "code",
   "execution_count": 1,
   "metadata": {
    "collapsed": true
   },
   "outputs": [],
   "source": [
    "import random\n",
    "\n",
    "def choice(user):\n",
    "    your_choice = input('Rocks, paper, scissors! Which one do you choose? [r/p/s]:')\n",
    "    if your_choice == 'r':\n",
    "        return 'rock'\n",
    "    elif your_choice == 'p':\n",
    "        return 'paper'\n",
    "    elif your_choice == 's':\n",
    "        return 'scissors'\n",
    "    else:\n",
    "        return 'invalid choice! Try again!'\n",
    "        choice(user)\n",
    "\n",
    "userdata = dict()\n",
    "\n",
    "def rockpaperscissors(N):\n",
    "    name = input('what is your name? ')\n",
    "   \n",
    "    if name in userdata.keys():\n",
    "        return 'you already played!'\n",
    "    else:\n",
    "        userdata[name] = []\n",
    "    \n",
    "        start = 1\n",
    "        while start != N+1:\n",
    "            r = random.choice(['rock','paper','scissors'])\n",
    "            x = choice(name)\n",
    "\n",
    "            if x is r:\n",
    "                userdata[name].append((start, r, x, 0))\n",
    "                start = start + 1\n",
    "                print('draw')\n",
    "            if x is 'rock':\n",
    "                if r is 'paper':\n",
    "                    userdata[name].append((start, r, x, -1))\n",
    "                    start = start + 1\n",
    "                    print('loss')\n",
    "                if r is 'scissors':\n",
    "                    userdata[name].append((start, r, x, 1))\n",
    "                    start = start + 1\n",
    "                    print('win')\n",
    "            if x is 'scissors':\n",
    "                if r is 'rock':\n",
    "                    userdata[name].append((start, r, x, -1))\n",
    "                    start = start + 1\n",
    "                    print('loss')\n",
    "                if r is 'paper':\n",
    "                    userdata[name].append((start, r, x, 1))\n",
    "                    start = start + 1\n",
    "                    print('win')\n",
    "            if x is 'paper':\n",
    "                if r is 'rock':\n",
    "                    userdata[name].append((start, r, x, 1))\n",
    "                    start = start + 1\n",
    "                    print('win')\n",
    "                if r is 'scissors':\n",
    "                    userdata[name].append((start, r, x, -1))\n",
    "                    start = start + 1\n",
    "                    print('loss')\n",
    "    \n",
    "    return userdata[name]"
   ]
  },
  {
   "cell_type": "code",
   "execution_count": null,
   "metadata": {
    "collapsed": true
   },
   "outputs": [],
   "source": [
    "\"\"\"For each of these cells, if you run them, it should work. Can you run \n",
    "each player's cell separately? The data should be all stored in the same place\n",
    "so there should be no problem. Just make sure to run the first cell (the one above this one)\n",
    "first.\"\"\""
   ]
  },
  {
   "cell_type": "code",
   "execution_count": null,
   "metadata": {
    "collapsed": true
   },
   "outputs": [],
   "source": [
    "\"\"\"player 1\"\"\"\n",
    "rockpaperscissors(20)"
   ]
  },
  {
   "cell_type": "code",
   "execution_count": null,
   "metadata": {
    "collapsed": true
   },
   "outputs": [],
   "source": [
    "\"\"\"player 2\"\"\"\n",
    "rockpaperscissors(20)"
   ]
  },
  {
   "cell_type": "code",
   "execution_count": null,
   "metadata": {
    "collapsed": true
   },
   "outputs": [],
   "source": [
    "\"\"\"player 3\"\"\"\n",
    "rockpaperscissors(20)"
   ]
  },
  {
   "cell_type": "code",
   "execution_count": null,
   "metadata": {
    "collapsed": true
   },
   "outputs": [],
   "source": [
    "\"\"\"player 4\"\"\"\n",
    "rockpaperscissors(20)"
   ]
  },
  {
   "cell_type": "code",
   "execution_count": null,
   "metadata": {
    "collapsed": true
   },
   "outputs": [],
   "source": [
    "\"\"\"player 5\"\"\"\n",
    "rockpaperscissors(20)"
   ]
  },
  {
   "cell_type": "code",
   "execution_count": null,
   "metadata": {
    "collapsed": true
   },
   "outputs": [],
   "source": [
    "\"\"\"player 6\"\"\"\n",
    "rockpaperscissors(20)"
   ]
  },
  {
   "cell_type": "code",
   "execution_count": null,
   "metadata": {
    "collapsed": true
   },
   "outputs": [],
   "source": [
    "\"\"\"player 7\"\"\"\n",
    "rockpaperscissors(20)"
   ]
  },
  {
   "cell_type": "code",
   "execution_count": null,
   "metadata": {
    "collapsed": true
   },
   "outputs": [],
   "source": [
    "\"\"\"player 8\"\"\"\n",
    "rockpaperscissors(20)"
   ]
  },
  {
   "cell_type": "code",
   "execution_count": null,
   "metadata": {
    "collapsed": true
   },
   "outputs": [],
   "source": [
    "\"\"\"player 9\"\"\"\n",
    "rockpaperscissors(20)"
   ]
  },
  {
   "cell_type": "code",
   "execution_count": null,
   "metadata": {
    "collapsed": true
   },
   "outputs": [],
   "source": [
    "\"\"\"player 10\"\"\"\n",
    "rockpaperscissors(20)"
   ]
  },
  {
   "cell_type": "code",
   "execution_count": null,
   "metadata": {
    "collapsed": true
   },
   "outputs": [],
   "source": [
    "\"\"\"player 11\"\"\"\n",
    "rockpaperscissors(20)"
   ]
  },
  {
   "cell_type": "code",
   "execution_count": null,
   "metadata": {
    "collapsed": true
   },
   "outputs": [],
   "source": [
    "\"\"\"player 12\"\"\"\n",
    "rockpaperscissors(20)"
   ]
  },
  {
   "cell_type": "code",
   "execution_count": null,
   "metadata": {
    "collapsed": true
   },
   "outputs": [],
   "source": [
    "\"\"\"player 13\"\"\"\n",
    "rockpaperscissors(20)"
   ]
  },
  {
   "cell_type": "code",
   "execution_count": null,
   "metadata": {
    "collapsed": true
   },
   "outputs": [],
   "source": [
    "\"\"\"player 14\"\"\"\n",
    "rockpaperscissors(20)"
   ]
  },
  {
   "cell_type": "code",
   "execution_count": null,
   "metadata": {
    "collapsed": true
   },
   "outputs": [],
   "source": [
    "\"\"\"player 15\"\"\"\n",
    "rockpaperscissors(20)"
   ]
  },
  {
   "cell_type": "code",
   "execution_count": null,
   "metadata": {
    "collapsed": true
   },
   "outputs": [],
   "source": [
    "#If you can get more data, can you collect from 5 more people? otherwise, \n",
    "#15 people is enough data."
   ]
  },
  {
   "cell_type": "code",
   "execution_count": null,
   "metadata": {
    "collapsed": true
   },
   "outputs": [],
   "source": [
    "\"\"\"player 16\"\"\"\n",
    "rockpaperscissors(20)"
   ]
  },
  {
   "cell_type": "code",
   "execution_count": null,
   "metadata": {
    "collapsed": true
   },
   "outputs": [],
   "source": [
    "\"\"\"player 17\"\"\"\n",
    "rockpaperscissors(20)"
   ]
  },
  {
   "cell_type": "code",
   "execution_count": null,
   "metadata": {
    "collapsed": true
   },
   "outputs": [],
   "source": [
    "\"\"\"player 18\"\"\"\n",
    "rockpaperscissors(20)"
   ]
  },
  {
   "cell_type": "code",
   "execution_count": null,
   "metadata": {
    "collapsed": true
   },
   "outputs": [],
   "source": [
    "\"\"\"player 19\"\"\"\n",
    "rockpaperscissors(20)"
   ]
  },
  {
   "cell_type": "code",
   "execution_count": null,
   "metadata": {
    "collapsed": true
   },
   "outputs": [],
   "source": [
    "\"\"\"player 20\"\"\"\n",
    "rockpaperscissors(20)"
   ]
  },
  {
   "cell_type": "code",
   "execution_count": null,
   "metadata": {
    "collapsed": true
   },
   "outputs": [],
   "source": [
    "\"\"\"Once the players' data has been collected, run this cell\"\"\"\n",
    "\n",
    "import json\n",
    "with open('rockspaperscissordata.txt', 'w') as outfile:\n",
    "    json.dump(userdata, outfile)\n"
   ]
  },
  {
   "cell_type": "code",
   "execution_count": null,
   "metadata": {
    "collapsed": true
   },
   "outputs": [],
   "source": [
    "\"\"\"Then search for the file titled 'rockspaperscissordata.txt' in the same folder you have the jupyter notebook \n",
    "open, open the textfile to see if the data is there and then can you send me the txt file?\n",
    "sorry for all the work! Thank you Andrew! Then I can do all the analysis from home and we should be done by the due date.\"\"\""
   ]
  },
  {
   "cell_type": "code",
   "execution_count": null,
   "metadata": {
    "collapsed": true
   },
   "outputs": [],
   "source": []
  },
  {
   "cell_type": "code",
   "execution_count": null,
   "metadata": {
    "collapsed": true
   },
   "outputs": [],
   "source": []
  }
 ],
 "metadata": {
  "kernelspec": {
   "display_name": "Python [Root]",
   "language": "python",
   "name": "Python [Root]"
  },
  "language_info": {
   "codemirror_mode": {
    "name": "ipython",
    "version": 3
   },
   "file_extension": ".py",
   "mimetype": "text/x-python",
   "name": "python",
   "nbconvert_exporter": "python",
   "pygments_lexer": "ipython3",
   "version": "3.5.2"
  }
 },
 "nbformat": 4,
 "nbformat_minor": 0
}
